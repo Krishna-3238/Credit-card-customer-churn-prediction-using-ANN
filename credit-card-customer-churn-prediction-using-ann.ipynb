{
 "cells": [
  {
   "cell_type": "code",
   "execution_count": 1,
   "id": "10bb4f0e",
   "metadata": {
    "_cell_guid": "b1076dfc-b9ad-4769-8c92-a6c4dae69d19",
    "_uuid": "8f2839f25d086af736a60e9eeb907d3b93b6e0e5",
    "execution": {
     "iopub.execute_input": "2024-08-19T05:31:36.175338Z",
     "iopub.status.busy": "2024-08-19T05:31:36.174901Z",
     "iopub.status.idle": "2024-08-19T05:31:37.102176Z",
     "shell.execute_reply": "2024-08-19T05:31:37.100910Z"
    },
    "papermill": {
     "duration": 0.940271,
     "end_time": "2024-08-19T05:31:37.105595",
     "exception": false,
     "start_time": "2024-08-19T05:31:36.165324",
     "status": "completed"
    },
    "tags": []
   },
   "outputs": [
    {
     "name": "stdout",
     "output_type": "stream",
     "text": [
      "/kaggle/input/credit-card-customer-churn-prediction/Churn_Modelling.csv\n"
     ]
    }
   ],
   "source": [
    "# This Python 3 environment comes with many helpful analytics libraries installed\n",
    "# It is defined by the kaggle/python Docker image: https://github.com/kaggle/docker-python\n",
    "# For example, here's several helpful packages to load\n",
    "\n",
    "import numpy as np # linear algebra\n",
    "import pandas as pd # data processing, CSV file I/O (e.g. pd.read_csv)\n",
    "\n",
    "# Input data files are available in the read-only \"../input/\" directory\n",
    "# For example, running this (by clicking run or pressing Shift+Enter) will list all files under the input directory\n",
    "\n",
    "import os\n",
    "for dirname, _, filenames in os.walk('/kaggle/input'):\n",
    "    for filename in filenames:\n",
    "        print(os.path.join(dirname, filename))\n",
    "\n",
    "# You can write up to 20GB to the current directory (/kaggle/working/) that gets preserved as output when you create a version using \"Save & Run All\" \n",
    "# You can also write temporary files to /kaggle/temp/, but they won't be saved outside of the current session"
   ]
  },
  {
   "cell_type": "code",
   "execution_count": 2,
   "id": "fc4095d7",
   "metadata": {
    "execution": {
     "iopub.execute_input": "2024-08-19T05:31:37.126756Z",
     "iopub.status.busy": "2024-08-19T05:31:37.126239Z",
     "iopub.status.idle": "2024-08-19T05:31:37.172923Z",
     "shell.execute_reply": "2024-08-19T05:31:37.171642Z"
    },
    "papermill": {
     "duration": 0.058468,
     "end_time": "2024-08-19T05:31:37.175617",
     "exception": false,
     "start_time": "2024-08-19T05:31:37.117149",
     "status": "completed"
    },
    "tags": []
   },
   "outputs": [],
   "source": [
    "df = pd.read_csv(\"/kaggle/input/credit-card-customer-churn-prediction/Churn_Modelling.csv\")"
   ]
  },
  {
   "cell_type": "code",
   "execution_count": 3,
   "id": "c9076eee",
   "metadata": {
    "execution": {
     "iopub.execute_input": "2024-08-19T05:31:37.191660Z",
     "iopub.status.busy": "2024-08-19T05:31:37.191286Z",
     "iopub.status.idle": "2024-08-19T05:31:37.219085Z",
     "shell.execute_reply": "2024-08-19T05:31:37.217908Z"
    },
    "papermill": {
     "duration": 0.038379,
     "end_time": "2024-08-19T05:31:37.221300",
     "exception": false,
     "start_time": "2024-08-19T05:31:37.182921",
     "status": "completed"
    },
    "tags": []
   },
   "outputs": [
    {
     "data": {
      "text/html": [
       "<div>\n",
       "<style scoped>\n",
       "    .dataframe tbody tr th:only-of-type {\n",
       "        vertical-align: middle;\n",
       "    }\n",
       "\n",
       "    .dataframe tbody tr th {\n",
       "        vertical-align: top;\n",
       "    }\n",
       "\n",
       "    .dataframe thead th {\n",
       "        text-align: right;\n",
       "    }\n",
       "</style>\n",
       "<table border=\"1\" class=\"dataframe\">\n",
       "  <thead>\n",
       "    <tr style=\"text-align: right;\">\n",
       "      <th></th>\n",
       "      <th>RowNumber</th>\n",
       "      <th>CustomerId</th>\n",
       "      <th>Surname</th>\n",
       "      <th>CreditScore</th>\n",
       "      <th>Geography</th>\n",
       "      <th>Gender</th>\n",
       "      <th>Age</th>\n",
       "      <th>Tenure</th>\n",
       "      <th>Balance</th>\n",
       "      <th>NumOfProducts</th>\n",
       "      <th>HasCrCard</th>\n",
       "      <th>IsActiveMember</th>\n",
       "      <th>EstimatedSalary</th>\n",
       "      <th>Exited</th>\n",
       "    </tr>\n",
       "  </thead>\n",
       "  <tbody>\n",
       "    <tr>\n",
       "      <th>0</th>\n",
       "      <td>1</td>\n",
       "      <td>15634602</td>\n",
       "      <td>Hargrave</td>\n",
       "      <td>619</td>\n",
       "      <td>France</td>\n",
       "      <td>Female</td>\n",
       "      <td>42</td>\n",
       "      <td>2</td>\n",
       "      <td>0.00</td>\n",
       "      <td>1</td>\n",
       "      <td>1</td>\n",
       "      <td>1</td>\n",
       "      <td>101348.88</td>\n",
       "      <td>1</td>\n",
       "    </tr>\n",
       "    <tr>\n",
       "      <th>1</th>\n",
       "      <td>2</td>\n",
       "      <td>15647311</td>\n",
       "      <td>Hill</td>\n",
       "      <td>608</td>\n",
       "      <td>Spain</td>\n",
       "      <td>Female</td>\n",
       "      <td>41</td>\n",
       "      <td>1</td>\n",
       "      <td>83807.86</td>\n",
       "      <td>1</td>\n",
       "      <td>0</td>\n",
       "      <td>1</td>\n",
       "      <td>112542.58</td>\n",
       "      <td>0</td>\n",
       "    </tr>\n",
       "    <tr>\n",
       "      <th>2</th>\n",
       "      <td>3</td>\n",
       "      <td>15619304</td>\n",
       "      <td>Onio</td>\n",
       "      <td>502</td>\n",
       "      <td>France</td>\n",
       "      <td>Female</td>\n",
       "      <td>42</td>\n",
       "      <td>8</td>\n",
       "      <td>159660.80</td>\n",
       "      <td>3</td>\n",
       "      <td>1</td>\n",
       "      <td>0</td>\n",
       "      <td>113931.57</td>\n",
       "      <td>1</td>\n",
       "    </tr>\n",
       "    <tr>\n",
       "      <th>3</th>\n",
       "      <td>4</td>\n",
       "      <td>15701354</td>\n",
       "      <td>Boni</td>\n",
       "      <td>699</td>\n",
       "      <td>France</td>\n",
       "      <td>Female</td>\n",
       "      <td>39</td>\n",
       "      <td>1</td>\n",
       "      <td>0.00</td>\n",
       "      <td>2</td>\n",
       "      <td>0</td>\n",
       "      <td>0</td>\n",
       "      <td>93826.63</td>\n",
       "      <td>0</td>\n",
       "    </tr>\n",
       "    <tr>\n",
       "      <th>4</th>\n",
       "      <td>5</td>\n",
       "      <td>15737888</td>\n",
       "      <td>Mitchell</td>\n",
       "      <td>850</td>\n",
       "      <td>Spain</td>\n",
       "      <td>Female</td>\n",
       "      <td>43</td>\n",
       "      <td>2</td>\n",
       "      <td>125510.82</td>\n",
       "      <td>1</td>\n",
       "      <td>1</td>\n",
       "      <td>1</td>\n",
       "      <td>79084.10</td>\n",
       "      <td>0</td>\n",
       "    </tr>\n",
       "  </tbody>\n",
       "</table>\n",
       "</div>"
      ],
      "text/plain": [
       "   RowNumber  CustomerId   Surname  CreditScore Geography  Gender  Age  \\\n",
       "0          1    15634602  Hargrave          619    France  Female   42   \n",
       "1          2    15647311      Hill          608     Spain  Female   41   \n",
       "2          3    15619304      Onio          502    France  Female   42   \n",
       "3          4    15701354      Boni          699    France  Female   39   \n",
       "4          5    15737888  Mitchell          850     Spain  Female   43   \n",
       "\n",
       "   Tenure    Balance  NumOfProducts  HasCrCard  IsActiveMember  \\\n",
       "0       2       0.00              1          1               1   \n",
       "1       1   83807.86              1          0               1   \n",
       "2       8  159660.80              3          1               0   \n",
       "3       1       0.00              2          0               0   \n",
       "4       2  125510.82              1          1               1   \n",
       "\n",
       "   EstimatedSalary  Exited  \n",
       "0        101348.88       1  \n",
       "1        112542.58       0  \n",
       "2        113931.57       1  \n",
       "3         93826.63       0  \n",
       "4         79084.10       0  "
      ]
     },
     "execution_count": 3,
     "metadata": {},
     "output_type": "execute_result"
    }
   ],
   "source": [
    "df.head()"
   ]
  },
  {
   "cell_type": "code",
   "execution_count": 4,
   "id": "171233e8",
   "metadata": {
    "execution": {
     "iopub.execute_input": "2024-08-19T05:31:37.238831Z",
     "iopub.status.busy": "2024-08-19T05:31:37.237876Z",
     "iopub.status.idle": "2024-08-19T05:31:37.245635Z",
     "shell.execute_reply": "2024-08-19T05:31:37.244403Z"
    },
    "papermill": {
     "duration": 0.019009,
     "end_time": "2024-08-19T05:31:37.248080",
     "exception": false,
     "start_time": "2024-08-19T05:31:37.229071",
     "status": "completed"
    },
    "tags": []
   },
   "outputs": [
    {
     "data": {
      "text/plain": [
       "(10000, 14)"
      ]
     },
     "execution_count": 4,
     "metadata": {},
     "output_type": "execute_result"
    }
   ],
   "source": [
    "df.shape"
   ]
  },
  {
   "cell_type": "code",
   "execution_count": 5,
   "id": "6dccb23d",
   "metadata": {
    "execution": {
     "iopub.execute_input": "2024-08-19T05:31:37.265304Z",
     "iopub.status.busy": "2024-08-19T05:31:37.264936Z",
     "iopub.status.idle": "2024-08-19T05:31:37.294016Z",
     "shell.execute_reply": "2024-08-19T05:31:37.292107Z"
    },
    "papermill": {
     "duration": 0.040675,
     "end_time": "2024-08-19T05:31:37.296586",
     "exception": false,
     "start_time": "2024-08-19T05:31:37.255911",
     "status": "completed"
    },
    "tags": []
   },
   "outputs": [
    {
     "name": "stdout",
     "output_type": "stream",
     "text": [
      "<class 'pandas.core.frame.DataFrame'>\n",
      "RangeIndex: 10000 entries, 0 to 9999\n",
      "Data columns (total 14 columns):\n",
      " #   Column           Non-Null Count  Dtype  \n",
      "---  ------           --------------  -----  \n",
      " 0   RowNumber        10000 non-null  int64  \n",
      " 1   CustomerId       10000 non-null  int64  \n",
      " 2   Surname          10000 non-null  object \n",
      " 3   CreditScore      10000 non-null  int64  \n",
      " 4   Geography        10000 non-null  object \n",
      " 5   Gender           10000 non-null  object \n",
      " 6   Age              10000 non-null  int64  \n",
      " 7   Tenure           10000 non-null  int64  \n",
      " 8   Balance          10000 non-null  float64\n",
      " 9   NumOfProducts    10000 non-null  int64  \n",
      " 10  HasCrCard        10000 non-null  int64  \n",
      " 11  IsActiveMember   10000 non-null  int64  \n",
      " 12  EstimatedSalary  10000 non-null  float64\n",
      " 13  Exited           10000 non-null  int64  \n",
      "dtypes: float64(2), int64(9), object(3)\n",
      "memory usage: 1.1+ MB\n"
     ]
    }
   ],
   "source": [
    "df.info()"
   ]
  },
  {
   "cell_type": "code",
   "execution_count": 6,
   "id": "46571b0e",
   "metadata": {
    "execution": {
     "iopub.execute_input": "2024-08-19T05:31:37.315098Z",
     "iopub.status.busy": "2024-08-19T05:31:37.314039Z",
     "iopub.status.idle": "2024-08-19T05:31:37.332381Z",
     "shell.execute_reply": "2024-08-19T05:31:37.331127Z"
    },
    "papermill": {
     "duration": 0.030261,
     "end_time": "2024-08-19T05:31:37.334917",
     "exception": false,
     "start_time": "2024-08-19T05:31:37.304656",
     "status": "completed"
    },
    "tags": []
   },
   "outputs": [
    {
     "data": {
      "text/plain": [
       "0"
      ]
     },
     "execution_count": 6,
     "metadata": {},
     "output_type": "execute_result"
    }
   ],
   "source": [
    "df.duplicated().sum()"
   ]
  },
  {
   "cell_type": "code",
   "execution_count": 7,
   "id": "27d7e998",
   "metadata": {
    "execution": {
     "iopub.execute_input": "2024-08-19T05:31:37.352286Z",
     "iopub.status.busy": "2024-08-19T05:31:37.351901Z",
     "iopub.status.idle": "2024-08-19T05:31:37.361959Z",
     "shell.execute_reply": "2024-08-19T05:31:37.360803Z"
    },
    "papermill": {
     "duration": 0.021475,
     "end_time": "2024-08-19T05:31:37.364381",
     "exception": false,
     "start_time": "2024-08-19T05:31:37.342906",
     "status": "completed"
    },
    "tags": []
   },
   "outputs": [
    {
     "data": {
      "text/plain": [
       "Exited\n",
       "0    7963\n",
       "1    2037\n",
       "Name: count, dtype: int64"
      ]
     },
     "execution_count": 7,
     "metadata": {},
     "output_type": "execute_result"
    }
   ],
   "source": [
    "df['Exited'].value_counts()"
   ]
  },
  {
   "cell_type": "code",
   "execution_count": 8,
   "id": "aa4c6060",
   "metadata": {
    "execution": {
     "iopub.execute_input": "2024-08-19T05:31:37.383814Z",
     "iopub.status.busy": "2024-08-19T05:31:37.382761Z",
     "iopub.status.idle": "2024-08-19T05:31:37.393991Z",
     "shell.execute_reply": "2024-08-19T05:31:37.392787Z"
    },
    "papermill": {
     "duration": 0.023491,
     "end_time": "2024-08-19T05:31:37.396763",
     "exception": false,
     "start_time": "2024-08-19T05:31:37.373272",
     "status": "completed"
    },
    "tags": []
   },
   "outputs": [
    {
     "data": {
      "text/plain": [
       "Gender\n",
       "Male      5457\n",
       "Female    4543\n",
       "Name: count, dtype: int64"
      ]
     },
     "execution_count": 8,
     "metadata": {},
     "output_type": "execute_result"
    }
   ],
   "source": [
    "df['Gender'].value_counts()"
   ]
  },
  {
   "cell_type": "code",
   "execution_count": 9,
   "id": "4b9096ef",
   "metadata": {
    "execution": {
     "iopub.execute_input": "2024-08-19T05:31:37.417287Z",
     "iopub.status.busy": "2024-08-19T05:31:37.416907Z",
     "iopub.status.idle": "2024-08-19T05:31:37.426412Z",
     "shell.execute_reply": "2024-08-19T05:31:37.425271Z"
    },
    "papermill": {
     "duration": 0.023644,
     "end_time": "2024-08-19T05:31:37.428762",
     "exception": false,
     "start_time": "2024-08-19T05:31:37.405118",
     "status": "completed"
    },
    "tags": []
   },
   "outputs": [],
   "source": [
    "df.drop(columns = ['RowNumber','CustomerId','Surname'],inplace = True)\n"
   ]
  },
  {
   "cell_type": "code",
   "execution_count": 10,
   "id": "cb48e397",
   "metadata": {
    "execution": {
     "iopub.execute_input": "2024-08-19T05:31:37.446477Z",
     "iopub.status.busy": "2024-08-19T05:31:37.446087Z",
     "iopub.status.idle": "2024-08-19T05:31:37.461338Z",
     "shell.execute_reply": "2024-08-19T05:31:37.459888Z"
    },
    "papermill": {
     "duration": 0.026963,
     "end_time": "2024-08-19T05:31:37.463759",
     "exception": false,
     "start_time": "2024-08-19T05:31:37.436796",
     "status": "completed"
    },
    "tags": []
   },
   "outputs": [
    {
     "data": {
      "text/html": [
       "<div>\n",
       "<style scoped>\n",
       "    .dataframe tbody tr th:only-of-type {\n",
       "        vertical-align: middle;\n",
       "    }\n",
       "\n",
       "    .dataframe tbody tr th {\n",
       "        vertical-align: top;\n",
       "    }\n",
       "\n",
       "    .dataframe thead th {\n",
       "        text-align: right;\n",
       "    }\n",
       "</style>\n",
       "<table border=\"1\" class=\"dataframe\">\n",
       "  <thead>\n",
       "    <tr style=\"text-align: right;\">\n",
       "      <th></th>\n",
       "      <th>CreditScore</th>\n",
       "      <th>Geography</th>\n",
       "      <th>Gender</th>\n",
       "      <th>Age</th>\n",
       "      <th>Tenure</th>\n",
       "      <th>Balance</th>\n",
       "      <th>NumOfProducts</th>\n",
       "      <th>HasCrCard</th>\n",
       "      <th>IsActiveMember</th>\n",
       "      <th>EstimatedSalary</th>\n",
       "      <th>Exited</th>\n",
       "    </tr>\n",
       "  </thead>\n",
       "  <tbody>\n",
       "    <tr>\n",
       "      <th>0</th>\n",
       "      <td>619</td>\n",
       "      <td>France</td>\n",
       "      <td>Female</td>\n",
       "      <td>42</td>\n",
       "      <td>2</td>\n",
       "      <td>0.00</td>\n",
       "      <td>1</td>\n",
       "      <td>1</td>\n",
       "      <td>1</td>\n",
       "      <td>101348.88</td>\n",
       "      <td>1</td>\n",
       "    </tr>\n",
       "    <tr>\n",
       "      <th>1</th>\n",
       "      <td>608</td>\n",
       "      <td>Spain</td>\n",
       "      <td>Female</td>\n",
       "      <td>41</td>\n",
       "      <td>1</td>\n",
       "      <td>83807.86</td>\n",
       "      <td>1</td>\n",
       "      <td>0</td>\n",
       "      <td>1</td>\n",
       "      <td>112542.58</td>\n",
       "      <td>0</td>\n",
       "    </tr>\n",
       "    <tr>\n",
       "      <th>2</th>\n",
       "      <td>502</td>\n",
       "      <td>France</td>\n",
       "      <td>Female</td>\n",
       "      <td>42</td>\n",
       "      <td>8</td>\n",
       "      <td>159660.80</td>\n",
       "      <td>3</td>\n",
       "      <td>1</td>\n",
       "      <td>0</td>\n",
       "      <td>113931.57</td>\n",
       "      <td>1</td>\n",
       "    </tr>\n",
       "    <tr>\n",
       "      <th>3</th>\n",
       "      <td>699</td>\n",
       "      <td>France</td>\n",
       "      <td>Female</td>\n",
       "      <td>39</td>\n",
       "      <td>1</td>\n",
       "      <td>0.00</td>\n",
       "      <td>2</td>\n",
       "      <td>0</td>\n",
       "      <td>0</td>\n",
       "      <td>93826.63</td>\n",
       "      <td>0</td>\n",
       "    </tr>\n",
       "    <tr>\n",
       "      <th>4</th>\n",
       "      <td>850</td>\n",
       "      <td>Spain</td>\n",
       "      <td>Female</td>\n",
       "      <td>43</td>\n",
       "      <td>2</td>\n",
       "      <td>125510.82</td>\n",
       "      <td>1</td>\n",
       "      <td>1</td>\n",
       "      <td>1</td>\n",
       "      <td>79084.10</td>\n",
       "      <td>0</td>\n",
       "    </tr>\n",
       "  </tbody>\n",
       "</table>\n",
       "</div>"
      ],
      "text/plain": [
       "   CreditScore Geography  Gender  Age  Tenure    Balance  NumOfProducts  \\\n",
       "0          619    France  Female   42       2       0.00              1   \n",
       "1          608     Spain  Female   41       1   83807.86              1   \n",
       "2          502    France  Female   42       8  159660.80              3   \n",
       "3          699    France  Female   39       1       0.00              2   \n",
       "4          850     Spain  Female   43       2  125510.82              1   \n",
       "\n",
       "   HasCrCard  IsActiveMember  EstimatedSalary  Exited  \n",
       "0          1               1        101348.88       1  \n",
       "1          0               1        112542.58       0  \n",
       "2          1               0        113931.57       1  \n",
       "3          0               0         93826.63       0  \n",
       "4          1               1         79084.10       0  "
      ]
     },
     "execution_count": 10,
     "metadata": {},
     "output_type": "execute_result"
    }
   ],
   "source": [
    "df.head()"
   ]
  },
  {
   "cell_type": "code",
   "execution_count": 11,
   "id": "e77f2d69",
   "metadata": {
    "execution": {
     "iopub.execute_input": "2024-08-19T05:31:37.481909Z",
     "iopub.status.busy": "2024-08-19T05:31:37.481506Z",
     "iopub.status.idle": "2024-08-19T05:31:37.494478Z",
     "shell.execute_reply": "2024-08-19T05:31:37.493357Z"
    },
    "papermill": {
     "duration": 0.024922,
     "end_time": "2024-08-19T05:31:37.497050",
     "exception": false,
     "start_time": "2024-08-19T05:31:37.472128",
     "status": "completed"
    },
    "tags": []
   },
   "outputs": [],
   "source": [
    "df = pd.get_dummies(df, columns=['Geography', 'Gender'], drop_first=True).astype(int)\n"
   ]
  },
  {
   "cell_type": "code",
   "execution_count": 12,
   "id": "c67a201c",
   "metadata": {
    "execution": {
     "iopub.execute_input": "2024-08-19T05:31:37.515669Z",
     "iopub.status.busy": "2024-08-19T05:31:37.514879Z",
     "iopub.status.idle": "2024-08-19T05:31:37.533031Z",
     "shell.execute_reply": "2024-08-19T05:31:37.531870Z"
    },
    "papermill": {
     "duration": 0.029926,
     "end_time": "2024-08-19T05:31:37.535285",
     "exception": false,
     "start_time": "2024-08-19T05:31:37.505359",
     "status": "completed"
    },
    "tags": []
   },
   "outputs": [
    {
     "data": {
      "text/html": [
       "<div>\n",
       "<style scoped>\n",
       "    .dataframe tbody tr th:only-of-type {\n",
       "        vertical-align: middle;\n",
       "    }\n",
       "\n",
       "    .dataframe tbody tr th {\n",
       "        vertical-align: top;\n",
       "    }\n",
       "\n",
       "    .dataframe thead th {\n",
       "        text-align: right;\n",
       "    }\n",
       "</style>\n",
       "<table border=\"1\" class=\"dataframe\">\n",
       "  <thead>\n",
       "    <tr style=\"text-align: right;\">\n",
       "      <th></th>\n",
       "      <th>CreditScore</th>\n",
       "      <th>Age</th>\n",
       "      <th>Tenure</th>\n",
       "      <th>Balance</th>\n",
       "      <th>NumOfProducts</th>\n",
       "      <th>HasCrCard</th>\n",
       "      <th>IsActiveMember</th>\n",
       "      <th>EstimatedSalary</th>\n",
       "      <th>Exited</th>\n",
       "      <th>Geography_Germany</th>\n",
       "      <th>Geography_Spain</th>\n",
       "      <th>Gender_Male</th>\n",
       "    </tr>\n",
       "  </thead>\n",
       "  <tbody>\n",
       "    <tr>\n",
       "      <th>0</th>\n",
       "      <td>619</td>\n",
       "      <td>42</td>\n",
       "      <td>2</td>\n",
       "      <td>0</td>\n",
       "      <td>1</td>\n",
       "      <td>1</td>\n",
       "      <td>1</td>\n",
       "      <td>101348</td>\n",
       "      <td>1</td>\n",
       "      <td>0</td>\n",
       "      <td>0</td>\n",
       "      <td>0</td>\n",
       "    </tr>\n",
       "    <tr>\n",
       "      <th>1</th>\n",
       "      <td>608</td>\n",
       "      <td>41</td>\n",
       "      <td>1</td>\n",
       "      <td>83807</td>\n",
       "      <td>1</td>\n",
       "      <td>0</td>\n",
       "      <td>1</td>\n",
       "      <td>112542</td>\n",
       "      <td>0</td>\n",
       "      <td>0</td>\n",
       "      <td>1</td>\n",
       "      <td>0</td>\n",
       "    </tr>\n",
       "    <tr>\n",
       "      <th>2</th>\n",
       "      <td>502</td>\n",
       "      <td>42</td>\n",
       "      <td>8</td>\n",
       "      <td>159660</td>\n",
       "      <td>3</td>\n",
       "      <td>1</td>\n",
       "      <td>0</td>\n",
       "      <td>113931</td>\n",
       "      <td>1</td>\n",
       "      <td>0</td>\n",
       "      <td>0</td>\n",
       "      <td>0</td>\n",
       "    </tr>\n",
       "    <tr>\n",
       "      <th>3</th>\n",
       "      <td>699</td>\n",
       "      <td>39</td>\n",
       "      <td>1</td>\n",
       "      <td>0</td>\n",
       "      <td>2</td>\n",
       "      <td>0</td>\n",
       "      <td>0</td>\n",
       "      <td>93826</td>\n",
       "      <td>0</td>\n",
       "      <td>0</td>\n",
       "      <td>0</td>\n",
       "      <td>0</td>\n",
       "    </tr>\n",
       "    <tr>\n",
       "      <th>4</th>\n",
       "      <td>850</td>\n",
       "      <td>43</td>\n",
       "      <td>2</td>\n",
       "      <td>125510</td>\n",
       "      <td>1</td>\n",
       "      <td>1</td>\n",
       "      <td>1</td>\n",
       "      <td>79084</td>\n",
       "      <td>0</td>\n",
       "      <td>0</td>\n",
       "      <td>1</td>\n",
       "      <td>0</td>\n",
       "    </tr>\n",
       "    <tr>\n",
       "      <th>...</th>\n",
       "      <td>...</td>\n",
       "      <td>...</td>\n",
       "      <td>...</td>\n",
       "      <td>...</td>\n",
       "      <td>...</td>\n",
       "      <td>...</td>\n",
       "      <td>...</td>\n",
       "      <td>...</td>\n",
       "      <td>...</td>\n",
       "      <td>...</td>\n",
       "      <td>...</td>\n",
       "      <td>...</td>\n",
       "    </tr>\n",
       "    <tr>\n",
       "      <th>9995</th>\n",
       "      <td>771</td>\n",
       "      <td>39</td>\n",
       "      <td>5</td>\n",
       "      <td>0</td>\n",
       "      <td>2</td>\n",
       "      <td>1</td>\n",
       "      <td>0</td>\n",
       "      <td>96270</td>\n",
       "      <td>0</td>\n",
       "      <td>0</td>\n",
       "      <td>0</td>\n",
       "      <td>1</td>\n",
       "    </tr>\n",
       "    <tr>\n",
       "      <th>9996</th>\n",
       "      <td>516</td>\n",
       "      <td>35</td>\n",
       "      <td>10</td>\n",
       "      <td>57369</td>\n",
       "      <td>1</td>\n",
       "      <td>1</td>\n",
       "      <td>1</td>\n",
       "      <td>101699</td>\n",
       "      <td>0</td>\n",
       "      <td>0</td>\n",
       "      <td>0</td>\n",
       "      <td>1</td>\n",
       "    </tr>\n",
       "    <tr>\n",
       "      <th>9997</th>\n",
       "      <td>709</td>\n",
       "      <td>36</td>\n",
       "      <td>7</td>\n",
       "      <td>0</td>\n",
       "      <td>1</td>\n",
       "      <td>0</td>\n",
       "      <td>1</td>\n",
       "      <td>42085</td>\n",
       "      <td>1</td>\n",
       "      <td>0</td>\n",
       "      <td>0</td>\n",
       "      <td>0</td>\n",
       "    </tr>\n",
       "    <tr>\n",
       "      <th>9998</th>\n",
       "      <td>772</td>\n",
       "      <td>42</td>\n",
       "      <td>3</td>\n",
       "      <td>75075</td>\n",
       "      <td>2</td>\n",
       "      <td>1</td>\n",
       "      <td>0</td>\n",
       "      <td>92888</td>\n",
       "      <td>1</td>\n",
       "      <td>1</td>\n",
       "      <td>0</td>\n",
       "      <td>1</td>\n",
       "    </tr>\n",
       "    <tr>\n",
       "      <th>9999</th>\n",
       "      <td>792</td>\n",
       "      <td>28</td>\n",
       "      <td>4</td>\n",
       "      <td>130142</td>\n",
       "      <td>1</td>\n",
       "      <td>1</td>\n",
       "      <td>0</td>\n",
       "      <td>38190</td>\n",
       "      <td>0</td>\n",
       "      <td>0</td>\n",
       "      <td>0</td>\n",
       "      <td>0</td>\n",
       "    </tr>\n",
       "  </tbody>\n",
       "</table>\n",
       "<p>10000 rows × 12 columns</p>\n",
       "</div>"
      ],
      "text/plain": [
       "      CreditScore  Age  Tenure  Balance  NumOfProducts  HasCrCard  \\\n",
       "0             619   42       2        0              1          1   \n",
       "1             608   41       1    83807              1          0   \n",
       "2             502   42       8   159660              3          1   \n",
       "3             699   39       1        0              2          0   \n",
       "4             850   43       2   125510              1          1   \n",
       "...           ...  ...     ...      ...            ...        ...   \n",
       "9995          771   39       5        0              2          1   \n",
       "9996          516   35      10    57369              1          1   \n",
       "9997          709   36       7        0              1          0   \n",
       "9998          772   42       3    75075              2          1   \n",
       "9999          792   28       4   130142              1          1   \n",
       "\n",
       "      IsActiveMember  EstimatedSalary  Exited  Geography_Germany  \\\n",
       "0                  1           101348       1                  0   \n",
       "1                  1           112542       0                  0   \n",
       "2                  0           113931       1                  0   \n",
       "3                  0            93826       0                  0   \n",
       "4                  1            79084       0                  0   \n",
       "...              ...              ...     ...                ...   \n",
       "9995               0            96270       0                  0   \n",
       "9996               1           101699       0                  0   \n",
       "9997               1            42085       1                  0   \n",
       "9998               0            92888       1                  1   \n",
       "9999               0            38190       0                  0   \n",
       "\n",
       "      Geography_Spain  Gender_Male  \n",
       "0                   0            0  \n",
       "1                   1            0  \n",
       "2                   0            0  \n",
       "3                   0            0  \n",
       "4                   1            0  \n",
       "...               ...          ...  \n",
       "9995                0            1  \n",
       "9996                0            1  \n",
       "9997                0            0  \n",
       "9998                0            1  \n",
       "9999                0            0  \n",
       "\n",
       "[10000 rows x 12 columns]"
      ]
     },
     "execution_count": 12,
     "metadata": {},
     "output_type": "execute_result"
    }
   ],
   "source": [
    "df"
   ]
  },
  {
   "cell_type": "code",
   "execution_count": 13,
   "id": "8b547f71",
   "metadata": {
    "execution": {
     "iopub.execute_input": "2024-08-19T05:31:37.554036Z",
     "iopub.status.busy": "2024-08-19T05:31:37.553637Z",
     "iopub.status.idle": "2024-08-19T05:31:37.560187Z",
     "shell.execute_reply": "2024-08-19T05:31:37.559229Z"
    },
    "papermill": {
     "duration": 0.018708,
     "end_time": "2024-08-19T05:31:37.562571",
     "exception": false,
     "start_time": "2024-08-19T05:31:37.543863",
     "status": "completed"
    },
    "tags": []
   },
   "outputs": [],
   "source": [
    "x = df.drop(columns=['Exited'])\n",
    "y = df['Exited']"
   ]
  },
  {
   "cell_type": "code",
   "execution_count": 14,
   "id": "2b357e48",
   "metadata": {
    "execution": {
     "iopub.execute_input": "2024-08-19T05:31:37.581771Z",
     "iopub.status.busy": "2024-08-19T05:31:37.581324Z",
     "iopub.status.idle": "2024-08-19T05:31:38.814410Z",
     "shell.execute_reply": "2024-08-19T05:31:38.813238Z"
    },
    "papermill": {
     "duration": 1.245639,
     "end_time": "2024-08-19T05:31:38.817086",
     "exception": false,
     "start_time": "2024-08-19T05:31:37.571447",
     "status": "completed"
    },
    "tags": []
   },
   "outputs": [],
   "source": [
    "from sklearn.model_selection import train_test_split\n",
    "x_train,x_test,y_train,y_test = train_test_split(x,y,test_size=0.2,random_state=2)"
   ]
  },
  {
   "cell_type": "code",
   "execution_count": 15,
   "id": "d81c9a92",
   "metadata": {
    "execution": {
     "iopub.execute_input": "2024-08-19T05:31:38.836640Z",
     "iopub.status.busy": "2024-08-19T05:31:38.836222Z",
     "iopub.status.idle": "2024-08-19T05:31:38.843415Z",
     "shell.execute_reply": "2024-08-19T05:31:38.842212Z"
    },
    "papermill": {
     "duration": 0.019668,
     "end_time": "2024-08-19T05:31:38.845765",
     "exception": false,
     "start_time": "2024-08-19T05:31:38.826097",
     "status": "completed"
    },
    "tags": []
   },
   "outputs": [
    {
     "data": {
      "text/plain": [
       "(8000, 11)"
      ]
     },
     "execution_count": 15,
     "metadata": {},
     "output_type": "execute_result"
    }
   ],
   "source": [
    "x_train.shape"
   ]
  },
  {
   "cell_type": "code",
   "execution_count": 16,
   "id": "9b4d27b9",
   "metadata": {
    "execution": {
     "iopub.execute_input": "2024-08-19T05:31:38.864881Z",
     "iopub.status.busy": "2024-08-19T05:31:38.864413Z",
     "iopub.status.idle": "2024-08-19T05:31:38.869698Z",
     "shell.execute_reply": "2024-08-19T05:31:38.868699Z"
    },
    "papermill": {
     "duration": 0.017438,
     "end_time": "2024-08-19T05:31:38.871853",
     "exception": false,
     "start_time": "2024-08-19T05:31:38.854415",
     "status": "completed"
    },
    "tags": []
   },
   "outputs": [],
   "source": [
    "from sklearn.preprocessing import StandardScaler\n",
    "scale = StandardScaler()"
   ]
  },
  {
   "cell_type": "code",
   "execution_count": 17,
   "id": "e23a6253",
   "metadata": {
    "execution": {
     "iopub.execute_input": "2024-08-19T05:31:38.891762Z",
     "iopub.status.busy": "2024-08-19T05:31:38.890663Z",
     "iopub.status.idle": "2024-08-19T05:31:38.904139Z",
     "shell.execute_reply": "2024-08-19T05:31:38.903040Z"
    },
    "papermill": {
     "duration": 0.02619,
     "end_time": "2024-08-19T05:31:38.906844",
     "exception": false,
     "start_time": "2024-08-19T05:31:38.880654",
     "status": "completed"
    },
    "tags": []
   },
   "outputs": [],
   "source": [
    "x_train_scaled = scale.fit_transform(x_train)\n",
    "x_test_scaled = scale.transform(x_test)"
   ]
  },
  {
   "cell_type": "code",
   "execution_count": 18,
   "id": "d3847fbc",
   "metadata": {
    "execution": {
     "iopub.execute_input": "2024-08-19T05:31:38.926116Z",
     "iopub.status.busy": "2024-08-19T05:31:38.925696Z",
     "iopub.status.idle": "2024-08-19T05:31:38.934146Z",
     "shell.execute_reply": "2024-08-19T05:31:38.932944Z"
    },
    "papermill": {
     "duration": 0.021285,
     "end_time": "2024-08-19T05:31:38.936848",
     "exception": false,
     "start_time": "2024-08-19T05:31:38.915563",
     "status": "completed"
    },
    "tags": []
   },
   "outputs": [
    {
     "data": {
      "text/plain": [
       "array([[ 8.33260665e-01, -9.50812388e-02,  1.71512123e+00, ...,\n",
       "        -5.84086250e-01, -5.71384156e-01, -1.08620280e+00],\n",
       "       [-5.53096261e-02,  1.89309306e-01, -1.04946154e+00, ...,\n",
       "         1.71207591e+00, -5.71384156e-01, -1.08620280e+00],\n",
       "       [-3.34279369e-01,  1.61126203e+00,  6.78402693e-01, ...,\n",
       "        -5.84086250e-01, -5.71384156e-01,  9.20638397e-01],\n",
       "       ...,\n",
       "       [ 8.74589516e-01, -9.50812388e-02, -1.39503438e+00, ...,\n",
       "        -5.84086250e-01, -5.71384156e-01, -1.08620280e+00],\n",
       "       [ 3.88975520e-01, -2.84390545e-04, -1.74060723e+00, ...,\n",
       "        -5.84086250e-01, -5.71384156e-01, -1.08620280e+00],\n",
       "       [ 7.29938538e-01,  6.63293547e-01, -1.39503438e+00, ...,\n",
       "        -5.84086250e-01, -5.71384156e-01,  9.20638397e-01]])"
      ]
     },
     "execution_count": 18,
     "metadata": {},
     "output_type": "execute_result"
    }
   ],
   "source": [
    "x_test_scaled"
   ]
  },
  {
   "cell_type": "code",
   "execution_count": 19,
   "id": "4cc6bb28",
   "metadata": {
    "execution": {
     "iopub.execute_input": "2024-08-19T05:31:38.957192Z",
     "iopub.status.busy": "2024-08-19T05:31:38.956350Z",
     "iopub.status.idle": "2024-08-19T05:31:52.648851Z",
     "shell.execute_reply": "2024-08-19T05:31:52.647455Z"
    },
    "papermill": {
     "duration": 13.705834,
     "end_time": "2024-08-19T05:31:52.651757",
     "exception": false,
     "start_time": "2024-08-19T05:31:38.945923",
     "status": "completed"
    },
    "tags": []
   },
   "outputs": [
    {
     "name": "stderr",
     "output_type": "stream",
     "text": [
      "2024-08-19 05:31:41.125974: E external/local_xla/xla/stream_executor/cuda/cuda_dnn.cc:9261] Unable to register cuDNN factory: Attempting to register factory for plugin cuDNN when one has already been registered\n",
      "2024-08-19 05:31:41.126115: E external/local_xla/xla/stream_executor/cuda/cuda_fft.cc:607] Unable to register cuFFT factory: Attempting to register factory for plugin cuFFT when one has already been registered\n",
      "2024-08-19 05:31:41.271235: E external/local_xla/xla/stream_executor/cuda/cuda_blas.cc:1515] Unable to register cuBLAS factory: Attempting to register factory for plugin cuBLAS when one has already been registered\n"
     ]
    }
   ],
   "source": [
    "import tensorflow\n",
    "from tensorflow import keras\n",
    "from tensorflow.keras import Sequential\n",
    "from tensorflow.keras.layers import Dense\n"
   ]
  },
  {
   "cell_type": "code",
   "execution_count": 20,
   "id": "131a64fe",
   "metadata": {
    "execution": {
     "iopub.execute_input": "2024-08-19T05:31:52.672274Z",
     "iopub.status.busy": "2024-08-19T05:31:52.671581Z",
     "iopub.status.idle": "2024-08-19T05:31:52.761840Z",
     "shell.execute_reply": "2024-08-19T05:31:52.760602Z"
    },
    "papermill": {
     "duration": 0.103088,
     "end_time": "2024-08-19T05:31:52.764224",
     "exception": false,
     "start_time": "2024-08-19T05:31:52.661136",
     "status": "completed"
    },
    "tags": []
   },
   "outputs": [
    {
     "name": "stderr",
     "output_type": "stream",
     "text": [
      "/opt/conda/lib/python3.10/site-packages/keras/src/layers/core/dense.py:87: UserWarning: Do not pass an `input_shape`/`input_dim` argument to a layer. When using Sequential models, prefer using an `Input(shape)` object as the first layer in the model instead.\n",
      "  super().__init__(activity_regularizer=activity_regularizer, **kwargs)\n"
     ]
    }
   ],
   "source": [
    "model = Sequential()\n",
    "model.add(Dense(10,activation='relu',input_dim=11))\n",
    "model.add(Dense(10,activation='relu'))\n",
    "model.add(Dense(1,activation='sigmoid'))"
   ]
  },
  {
   "cell_type": "code",
   "execution_count": 21,
   "id": "d481ac38",
   "metadata": {
    "execution": {
     "iopub.execute_input": "2024-08-19T05:31:52.784063Z",
     "iopub.status.busy": "2024-08-19T05:31:52.783643Z",
     "iopub.status.idle": "2024-08-19T05:31:52.804153Z",
     "shell.execute_reply": "2024-08-19T05:31:52.802932Z"
    },
    "papermill": {
     "duration": 0.033192,
     "end_time": "2024-08-19T05:31:52.806404",
     "exception": false,
     "start_time": "2024-08-19T05:31:52.773212",
     "status": "completed"
    },
    "tags": []
   },
   "outputs": [
    {
     "data": {
      "text/html": [
       "<pre style=\"white-space:pre;overflow-x:auto;line-height:normal;font-family:Menlo,'DejaVu Sans Mono',consolas,'Courier New',monospace\"><span style=\"font-weight: bold\">Model: \"sequential\"</span>\n",
       "</pre>\n"
      ],
      "text/plain": [
       "\u001b[1mModel: \"sequential\"\u001b[0m\n"
      ]
     },
     "metadata": {},
     "output_type": "display_data"
    },
    {
     "data": {
      "text/html": [
       "<pre style=\"white-space:pre;overflow-x:auto;line-height:normal;font-family:Menlo,'DejaVu Sans Mono',consolas,'Courier New',monospace\">┏━━━━━━━━━━━━━━━━━━━━━━━━━━━━━━━━━┳━━━━━━━━━━━━━━━━━━━━━━━━┳━━━━━━━━━━━━━━━┓\n",
       "┃<span style=\"font-weight: bold\"> Layer (type)                    </span>┃<span style=\"font-weight: bold\"> Output Shape           </span>┃<span style=\"font-weight: bold\">       Param # </span>┃\n",
       "┡━━━━━━━━━━━━━━━━━━━━━━━━━━━━━━━━━╇━━━━━━━━━━━━━━━━━━━━━━━━╇━━━━━━━━━━━━━━━┩\n",
       "│ dense (<span style=\"color: #0087ff; text-decoration-color: #0087ff\">Dense</span>)                   │ (<span style=\"color: #00d7ff; text-decoration-color: #00d7ff\">None</span>, <span style=\"color: #00af00; text-decoration-color: #00af00\">10</span>)             │           <span style=\"color: #00af00; text-decoration-color: #00af00\">120</span> │\n",
       "├─────────────────────────────────┼────────────────────────┼───────────────┤\n",
       "│ dense_1 (<span style=\"color: #0087ff; text-decoration-color: #0087ff\">Dense</span>)                 │ (<span style=\"color: #00d7ff; text-decoration-color: #00d7ff\">None</span>, <span style=\"color: #00af00; text-decoration-color: #00af00\">10</span>)             │           <span style=\"color: #00af00; text-decoration-color: #00af00\">110</span> │\n",
       "├─────────────────────────────────┼────────────────────────┼───────────────┤\n",
       "│ dense_2 (<span style=\"color: #0087ff; text-decoration-color: #0087ff\">Dense</span>)                 │ (<span style=\"color: #00d7ff; text-decoration-color: #00d7ff\">None</span>, <span style=\"color: #00af00; text-decoration-color: #00af00\">1</span>)              │            <span style=\"color: #00af00; text-decoration-color: #00af00\">11</span> │\n",
       "└─────────────────────────────────┴────────────────────────┴───────────────┘\n",
       "</pre>\n"
      ],
      "text/plain": [
       "┏━━━━━━━━━━━━━━━━━━━━━━━━━━━━━━━━━┳━━━━━━━━━━━━━━━━━━━━━━━━┳━━━━━━━━━━━━━━━┓\n",
       "┃\u001b[1m \u001b[0m\u001b[1mLayer (type)                   \u001b[0m\u001b[1m \u001b[0m┃\u001b[1m \u001b[0m\u001b[1mOutput Shape          \u001b[0m\u001b[1m \u001b[0m┃\u001b[1m \u001b[0m\u001b[1m      Param #\u001b[0m\u001b[1m \u001b[0m┃\n",
       "┡━━━━━━━━━━━━━━━━━━━━━━━━━━━━━━━━━╇━━━━━━━━━━━━━━━━━━━━━━━━╇━━━━━━━━━━━━━━━┩\n",
       "│ dense (\u001b[38;5;33mDense\u001b[0m)                   │ (\u001b[38;5;45mNone\u001b[0m, \u001b[38;5;34m10\u001b[0m)             │           \u001b[38;5;34m120\u001b[0m │\n",
       "├─────────────────────────────────┼────────────────────────┼───────────────┤\n",
       "│ dense_1 (\u001b[38;5;33mDense\u001b[0m)                 │ (\u001b[38;5;45mNone\u001b[0m, \u001b[38;5;34m10\u001b[0m)             │           \u001b[38;5;34m110\u001b[0m │\n",
       "├─────────────────────────────────┼────────────────────────┼───────────────┤\n",
       "│ dense_2 (\u001b[38;5;33mDense\u001b[0m)                 │ (\u001b[38;5;45mNone\u001b[0m, \u001b[38;5;34m1\u001b[0m)              │            \u001b[38;5;34m11\u001b[0m │\n",
       "└─────────────────────────────────┴────────────────────────┴───────────────┘\n"
      ]
     },
     "metadata": {},
     "output_type": "display_data"
    },
    {
     "data": {
      "text/html": [
       "<pre style=\"white-space:pre;overflow-x:auto;line-height:normal;font-family:Menlo,'DejaVu Sans Mono',consolas,'Courier New',monospace\"><span style=\"font-weight: bold\"> Total params: </span><span style=\"color: #00af00; text-decoration-color: #00af00\">241</span> (964.00 B)\n",
       "</pre>\n"
      ],
      "text/plain": [
       "\u001b[1m Total params: \u001b[0m\u001b[38;5;34m241\u001b[0m (964.00 B)\n"
      ]
     },
     "metadata": {},
     "output_type": "display_data"
    },
    {
     "data": {
      "text/html": [
       "<pre style=\"white-space:pre;overflow-x:auto;line-height:normal;font-family:Menlo,'DejaVu Sans Mono',consolas,'Courier New',monospace\"><span style=\"font-weight: bold\"> Trainable params: </span><span style=\"color: #00af00; text-decoration-color: #00af00\">241</span> (964.00 B)\n",
       "</pre>\n"
      ],
      "text/plain": [
       "\u001b[1m Trainable params: \u001b[0m\u001b[38;5;34m241\u001b[0m (964.00 B)\n"
      ]
     },
     "metadata": {},
     "output_type": "display_data"
    },
    {
     "data": {
      "text/html": [
       "<pre style=\"white-space:pre;overflow-x:auto;line-height:normal;font-family:Menlo,'DejaVu Sans Mono',consolas,'Courier New',monospace\"><span style=\"font-weight: bold\"> Non-trainable params: </span><span style=\"color: #00af00; text-decoration-color: #00af00\">0</span> (0.00 B)\n",
       "</pre>\n"
      ],
      "text/plain": [
       "\u001b[1m Non-trainable params: \u001b[0m\u001b[38;5;34m0\u001b[0m (0.00 B)\n"
      ]
     },
     "metadata": {},
     "output_type": "display_data"
    }
   ],
   "source": [
    "model.summary()"
   ]
  },
  {
   "cell_type": "code",
   "execution_count": 22,
   "id": "d7e4378e",
   "metadata": {
    "execution": {
     "iopub.execute_input": "2024-08-19T05:31:52.827644Z",
     "iopub.status.busy": "2024-08-19T05:31:52.827216Z",
     "iopub.status.idle": "2024-08-19T05:31:52.844504Z",
     "shell.execute_reply": "2024-08-19T05:31:52.843375Z"
    },
    "papermill": {
     "duration": 0.031135,
     "end_time": "2024-08-19T05:31:52.847149",
     "exception": false,
     "start_time": "2024-08-19T05:31:52.816014",
     "status": "completed"
    },
    "tags": []
   },
   "outputs": [],
   "source": [
    "model.compile(loss='binary_crossentropy',optimizer='Adam',metrics=['accuracy'])"
   ]
  },
  {
   "cell_type": "code",
   "execution_count": 23,
   "id": "3dcb3585",
   "metadata": {
    "execution": {
     "iopub.execute_input": "2024-08-19T05:31:52.868465Z",
     "iopub.status.busy": "2024-08-19T05:31:52.868082Z",
     "iopub.status.idle": "2024-08-19T05:32:12.356191Z",
     "shell.execute_reply": "2024-08-19T05:32:12.355094Z"
    },
    "papermill": {
     "duration": 19.501654,
     "end_time": "2024-08-19T05:32:12.358644",
     "exception": false,
     "start_time": "2024-08-19T05:31:52.856990",
     "status": "completed"
    },
    "tags": []
   },
   "outputs": [
    {
     "name": "stdout",
     "output_type": "stream",
     "text": [
      "Epoch 1/50\n",
      "\u001b[1m200/200\u001b[0m \u001b[32m━━━━━━━━━━━━━━━━━━━━\u001b[0m\u001b[37m\u001b[0m \u001b[1m2s\u001b[0m 2ms/step - accuracy: 0.6574 - loss: 0.6426 - val_accuracy: 0.8062 - val_loss: 0.4564\n",
      "Epoch 2/50\n",
      "\u001b[1m200/200\u001b[0m \u001b[32m━━━━━━━━━━━━━━━━━━━━\u001b[0m\u001b[37m\u001b[0m \u001b[1m0s\u001b[0m 2ms/step - accuracy: 0.7880 - loss: 0.4776 - val_accuracy: 0.8062 - val_loss: 0.4244\n",
      "Epoch 3/50\n",
      "\u001b[1m200/200\u001b[0m \u001b[32m━━━━━━━━━━━━━━━━━━━━\u001b[0m\u001b[37m\u001b[0m \u001b[1m0s\u001b[0m 2ms/step - accuracy: 0.7937 - loss: 0.4438 - val_accuracy: 0.8094 - val_loss: 0.4065\n",
      "Epoch 4/50\n",
      "\u001b[1m200/200\u001b[0m \u001b[32m━━━━━━━━━━━━━━━━━━━━\u001b[0m\u001b[37m\u001b[0m \u001b[1m0s\u001b[0m 2ms/step - accuracy: 0.7945 - loss: 0.4248 - val_accuracy: 0.8200 - val_loss: 0.3898\n",
      "Epoch 5/50\n",
      "\u001b[1m200/200\u001b[0m \u001b[32m━━━━━━━━━━━━━━━━━━━━\u001b[0m\u001b[37m\u001b[0m \u001b[1m0s\u001b[0m 2ms/step - accuracy: 0.8078 - loss: 0.4112 - val_accuracy: 0.8363 - val_loss: 0.3725\n",
      "Epoch 6/50\n",
      "\u001b[1m200/200\u001b[0m \u001b[32m━━━━━━━━━━━━━━━━━━━━\u001b[0m\u001b[37m\u001b[0m \u001b[1m0s\u001b[0m 2ms/step - accuracy: 0.8256 - loss: 0.3964 - val_accuracy: 0.8487 - val_loss: 0.3587\n",
      "Epoch 7/50\n",
      "\u001b[1m200/200\u001b[0m \u001b[32m━━━━━━━━━━━━━━━━━━━━\u001b[0m\u001b[37m\u001b[0m \u001b[1m0s\u001b[0m 2ms/step - accuracy: 0.8439 - loss: 0.3670 - val_accuracy: 0.8519 - val_loss: 0.3513\n",
      "Epoch 8/50\n",
      "\u001b[1m200/200\u001b[0m \u001b[32m━━━━━━━━━━━━━━━━━━━━\u001b[0m\u001b[37m\u001b[0m \u001b[1m0s\u001b[0m 2ms/step - accuracy: 0.8418 - loss: 0.3706 - val_accuracy: 0.8544 - val_loss: 0.3434\n",
      "Epoch 9/50\n",
      "\u001b[1m200/200\u001b[0m \u001b[32m━━━━━━━━━━━━━━━━━━━━\u001b[0m\u001b[37m\u001b[0m \u001b[1m0s\u001b[0m 2ms/step - accuracy: 0.8553 - loss: 0.3474 - val_accuracy: 0.8525 - val_loss: 0.3433\n",
      "Epoch 10/50\n",
      "\u001b[1m200/200\u001b[0m \u001b[32m━━━━━━━━━━━━━━━━━━━━\u001b[0m\u001b[37m\u001b[0m \u001b[1m0s\u001b[0m 2ms/step - accuracy: 0.8558 - loss: 0.3580 - val_accuracy: 0.8537 - val_loss: 0.3394\n",
      "Epoch 11/50\n",
      "\u001b[1m200/200\u001b[0m \u001b[32m━━━━━━━━━━━━━━━━━━━━\u001b[0m\u001b[37m\u001b[0m \u001b[1m0s\u001b[0m 2ms/step - accuracy: 0.8546 - loss: 0.3526 - val_accuracy: 0.8525 - val_loss: 0.3393\n",
      "Epoch 12/50\n",
      "\u001b[1m200/200\u001b[0m \u001b[32m━━━━━━━━━━━━━━━━━━━━\u001b[0m\u001b[37m\u001b[0m \u001b[1m0s\u001b[0m 2ms/step - accuracy: 0.8520 - loss: 0.3560 - val_accuracy: 0.8556 - val_loss: 0.3369\n",
      "Epoch 13/50\n",
      "\u001b[1m200/200\u001b[0m \u001b[32m━━━━━━━━━━━━━━━━━━━━\u001b[0m\u001b[37m\u001b[0m \u001b[1m0s\u001b[0m 2ms/step - accuracy: 0.8516 - loss: 0.3513 - val_accuracy: 0.8562 - val_loss: 0.3362\n",
      "Epoch 14/50\n",
      "\u001b[1m200/200\u001b[0m \u001b[32m━━━━━━━━━━━━━━━━━━━━\u001b[0m\u001b[37m\u001b[0m \u001b[1m0s\u001b[0m 2ms/step - accuracy: 0.8604 - loss: 0.3454 - val_accuracy: 0.8612 - val_loss: 0.3366\n",
      "Epoch 15/50\n",
      "\u001b[1m200/200\u001b[0m \u001b[32m━━━━━━━━━━━━━━━━━━━━\u001b[0m\u001b[37m\u001b[0m \u001b[1m0s\u001b[0m 2ms/step - accuracy: 0.8633 - loss: 0.3440 - val_accuracy: 0.8587 - val_loss: 0.3357\n",
      "Epoch 16/50\n",
      "\u001b[1m200/200\u001b[0m \u001b[32m━━━━━━━━━━━━━━━━━━━━\u001b[0m\u001b[37m\u001b[0m \u001b[1m0s\u001b[0m 2ms/step - accuracy: 0.8569 - loss: 0.3460 - val_accuracy: 0.8631 - val_loss: 0.3356\n",
      "Epoch 17/50\n",
      "\u001b[1m200/200\u001b[0m \u001b[32m━━━━━━━━━━━━━━━━━━━━\u001b[0m\u001b[37m\u001b[0m \u001b[1m0s\u001b[0m 2ms/step - accuracy: 0.8561 - loss: 0.3422 - val_accuracy: 0.8606 - val_loss: 0.3358\n",
      "Epoch 18/50\n",
      "\u001b[1m200/200\u001b[0m \u001b[32m━━━━━━━━━━━━━━━━━━━━\u001b[0m\u001b[37m\u001b[0m \u001b[1m0s\u001b[0m 2ms/step - accuracy: 0.8510 - loss: 0.3521 - val_accuracy: 0.8631 - val_loss: 0.3359\n",
      "Epoch 19/50\n",
      "\u001b[1m200/200\u001b[0m \u001b[32m━━━━━━━━━━━━━━━━━━━━\u001b[0m\u001b[37m\u001b[0m \u001b[1m0s\u001b[0m 2ms/step - accuracy: 0.8578 - loss: 0.3465 - val_accuracy: 0.8612 - val_loss: 0.3349\n",
      "Epoch 20/50\n",
      "\u001b[1m200/200\u001b[0m \u001b[32m━━━━━━━━━━━━━━━━━━━━\u001b[0m\u001b[37m\u001b[0m \u001b[1m0s\u001b[0m 2ms/step - accuracy: 0.8611 - loss: 0.3331 - val_accuracy: 0.8606 - val_loss: 0.3349\n",
      "Epoch 21/50\n",
      "\u001b[1m200/200\u001b[0m \u001b[32m━━━━━━━━━━━━━━━━━━━━\u001b[0m\u001b[37m\u001b[0m \u001b[1m0s\u001b[0m 2ms/step - accuracy: 0.8560 - loss: 0.3404 - val_accuracy: 0.8619 - val_loss: 0.3353\n",
      "Epoch 22/50\n",
      "\u001b[1m200/200\u001b[0m \u001b[32m━━━━━━━━━━━━━━━━━━━━\u001b[0m\u001b[37m\u001b[0m \u001b[1m0s\u001b[0m 2ms/step - accuracy: 0.8597 - loss: 0.3402 - val_accuracy: 0.8600 - val_loss: 0.3347\n",
      "Epoch 23/50\n",
      "\u001b[1m200/200\u001b[0m \u001b[32m━━━━━━━━━━━━━━━━━━━━\u001b[0m\u001b[37m\u001b[0m \u001b[1m0s\u001b[0m 2ms/step - accuracy: 0.8572 - loss: 0.3372 - val_accuracy: 0.8631 - val_loss: 0.3340\n",
      "Epoch 24/50\n",
      "\u001b[1m200/200\u001b[0m \u001b[32m━━━━━━━━━━━━━━━━━━━━\u001b[0m\u001b[37m\u001b[0m \u001b[1m0s\u001b[0m 2ms/step - accuracy: 0.8632 - loss: 0.3306 - val_accuracy: 0.8619 - val_loss: 0.3339\n",
      "Epoch 25/50\n",
      "\u001b[1m200/200\u001b[0m \u001b[32m━━━━━━━━━━━━━━━━━━━━\u001b[0m\u001b[37m\u001b[0m \u001b[1m0s\u001b[0m 2ms/step - accuracy: 0.8678 - loss: 0.3345 - val_accuracy: 0.8625 - val_loss: 0.3342\n",
      "Epoch 26/50\n",
      "\u001b[1m200/200\u001b[0m \u001b[32m━━━━━━━━━━━━━━━━━━━━\u001b[0m\u001b[37m\u001b[0m \u001b[1m0s\u001b[0m 2ms/step - accuracy: 0.8611 - loss: 0.3365 - val_accuracy: 0.8600 - val_loss: 0.3345\n",
      "Epoch 27/50\n",
      "\u001b[1m200/200\u001b[0m \u001b[32m━━━━━━━━━━━━━━━━━━━━\u001b[0m\u001b[37m\u001b[0m \u001b[1m0s\u001b[0m 2ms/step - accuracy: 0.8648 - loss: 0.3357 - val_accuracy: 0.8619 - val_loss: 0.3349\n",
      "Epoch 28/50\n",
      "\u001b[1m200/200\u001b[0m \u001b[32m━━━━━━━━━━━━━━━━━━━━\u001b[0m\u001b[37m\u001b[0m \u001b[1m0s\u001b[0m 2ms/step - accuracy: 0.8698 - loss: 0.3271 - val_accuracy: 0.8625 - val_loss: 0.3322\n",
      "Epoch 29/50\n",
      "\u001b[1m200/200\u001b[0m \u001b[32m━━━━━━━━━━━━━━━━━━━━\u001b[0m\u001b[37m\u001b[0m \u001b[1m0s\u001b[0m 2ms/step - accuracy: 0.8656 - loss: 0.3356 - val_accuracy: 0.8637 - val_loss: 0.3325\n",
      "Epoch 30/50\n",
      "\u001b[1m200/200\u001b[0m \u001b[32m━━━━━━━━━━━━━━━━━━━━\u001b[0m\u001b[37m\u001b[0m \u001b[1m0s\u001b[0m 2ms/step - accuracy: 0.8557 - loss: 0.3414 - val_accuracy: 0.8612 - val_loss: 0.3337\n",
      "Epoch 31/50\n",
      "\u001b[1m200/200\u001b[0m \u001b[32m━━━━━━━━━━━━━━━━━━━━\u001b[0m\u001b[37m\u001b[0m \u001b[1m0s\u001b[0m 2ms/step - accuracy: 0.8624 - loss: 0.3304 - val_accuracy: 0.8631 - val_loss: 0.3319\n",
      "Epoch 32/50\n",
      "\u001b[1m200/200\u001b[0m \u001b[32m━━━━━━━━━━━━━━━━━━━━\u001b[0m\u001b[37m\u001b[0m \u001b[1m0s\u001b[0m 2ms/step - accuracy: 0.8694 - loss: 0.3260 - val_accuracy: 0.8631 - val_loss: 0.3326\n",
      "Epoch 33/50\n",
      "\u001b[1m200/200\u001b[0m \u001b[32m━━━━━━━━━━━━━━━━━━━━\u001b[0m\u001b[37m\u001b[0m \u001b[1m0s\u001b[0m 2ms/step - accuracy: 0.8658 - loss: 0.3408 - val_accuracy: 0.8625 - val_loss: 0.3320\n",
      "Epoch 34/50\n",
      "\u001b[1m200/200\u001b[0m \u001b[32m━━━━━━━━━━━━━━━━━━━━\u001b[0m\u001b[37m\u001b[0m \u001b[1m0s\u001b[0m 2ms/step - accuracy: 0.8612 - loss: 0.3355 - val_accuracy: 0.8644 - val_loss: 0.3323\n",
      "Epoch 35/50\n",
      "\u001b[1m200/200\u001b[0m \u001b[32m━━━━━━━━━━━━━━━━━━━━\u001b[0m\u001b[37m\u001b[0m \u001b[1m0s\u001b[0m 2ms/step - accuracy: 0.8646 - loss: 0.3295 - val_accuracy: 0.8619 - val_loss: 0.3324\n",
      "Epoch 36/50\n",
      "\u001b[1m200/200\u001b[0m \u001b[32m━━━━━━━━━━━━━━━━━━━━\u001b[0m\u001b[37m\u001b[0m \u001b[1m0s\u001b[0m 2ms/step - accuracy: 0.8634 - loss: 0.3368 - val_accuracy: 0.8650 - val_loss: 0.3333\n",
      "Epoch 37/50\n",
      "\u001b[1m200/200\u001b[0m \u001b[32m━━━━━━━━━━━━━━━━━━━━\u001b[0m\u001b[37m\u001b[0m \u001b[1m0s\u001b[0m 2ms/step - accuracy: 0.8584 - loss: 0.3371 - val_accuracy: 0.8662 - val_loss: 0.3312\n",
      "Epoch 38/50\n",
      "\u001b[1m200/200\u001b[0m \u001b[32m━━━━━━━━━━━━━━━━━━━━\u001b[0m\u001b[37m\u001b[0m \u001b[1m0s\u001b[0m 2ms/step - accuracy: 0.8698 - loss: 0.3184 - val_accuracy: 0.8631 - val_loss: 0.3327\n",
      "Epoch 39/50\n",
      "\u001b[1m200/200\u001b[0m \u001b[32m━━━━━━━━━━━━━━━━━━━━\u001b[0m\u001b[37m\u001b[0m \u001b[1m0s\u001b[0m 2ms/step - accuracy: 0.8760 - loss: 0.3184 - val_accuracy: 0.8631 - val_loss: 0.3318\n",
      "Epoch 40/50\n",
      "\u001b[1m200/200\u001b[0m \u001b[32m━━━━━━━━━━━━━━━━━━━━\u001b[0m\u001b[37m\u001b[0m \u001b[1m0s\u001b[0m 2ms/step - accuracy: 0.8679 - loss: 0.3290 - val_accuracy: 0.8637 - val_loss: 0.3314\n",
      "Epoch 41/50\n",
      "\u001b[1m200/200\u001b[0m \u001b[32m━━━━━━━━━━━━━━━━━━━━\u001b[0m\u001b[37m\u001b[0m \u001b[1m0s\u001b[0m 2ms/step - accuracy: 0.8595 - loss: 0.3411 - val_accuracy: 0.8662 - val_loss: 0.3320\n",
      "Epoch 42/50\n",
      "\u001b[1m200/200\u001b[0m \u001b[32m━━━━━━━━━━━━━━━━━━━━\u001b[0m\u001b[37m\u001b[0m \u001b[1m0s\u001b[0m 2ms/step - accuracy: 0.8599 - loss: 0.3330 - val_accuracy: 0.8644 - val_loss: 0.3312\n",
      "Epoch 43/50\n",
      "\u001b[1m200/200\u001b[0m \u001b[32m━━━━━━━━━━━━━━━━━━━━\u001b[0m\u001b[37m\u001b[0m \u001b[1m0s\u001b[0m 2ms/step - accuracy: 0.8648 - loss: 0.3320 - val_accuracy: 0.8612 - val_loss: 0.3324\n",
      "Epoch 44/50\n",
      "\u001b[1m200/200\u001b[0m \u001b[32m━━━━━━━━━━━━━━━━━━━━\u001b[0m\u001b[37m\u001b[0m \u001b[1m0s\u001b[0m 2ms/step - accuracy: 0.8674 - loss: 0.3177 - val_accuracy: 0.8631 - val_loss: 0.3327\n",
      "Epoch 45/50\n",
      "\u001b[1m200/200\u001b[0m \u001b[32m━━━━━━━━━━━━━━━━━━━━\u001b[0m\u001b[37m\u001b[0m \u001b[1m0s\u001b[0m 2ms/step - accuracy: 0.8689 - loss: 0.3261 - val_accuracy: 0.8581 - val_loss: 0.3346\n",
      "Epoch 46/50\n",
      "\u001b[1m200/200\u001b[0m \u001b[32m━━━━━━━━━━━━━━━━━━━━\u001b[0m\u001b[37m\u001b[0m \u001b[1m0s\u001b[0m 2ms/step - accuracy: 0.8593 - loss: 0.3350 - val_accuracy: 0.8644 - val_loss: 0.3319\n",
      "Epoch 47/50\n",
      "\u001b[1m200/200\u001b[0m \u001b[32m━━━━━━━━━━━━━━━━━━━━\u001b[0m\u001b[37m\u001b[0m \u001b[1m0s\u001b[0m 2ms/step - accuracy: 0.8662 - loss: 0.3237 - val_accuracy: 0.8662 - val_loss: 0.3317\n",
      "Epoch 48/50\n",
      "\u001b[1m200/200\u001b[0m \u001b[32m━━━━━━━━━━━━━━━━━━━━\u001b[0m\u001b[37m\u001b[0m \u001b[1m0s\u001b[0m 2ms/step - accuracy: 0.8681 - loss: 0.3265 - val_accuracy: 0.8619 - val_loss: 0.3312\n",
      "Epoch 49/50\n",
      "\u001b[1m200/200\u001b[0m \u001b[32m━━━━━━━━━━━━━━━━━━━━\u001b[0m\u001b[37m\u001b[0m \u001b[1m0s\u001b[0m 2ms/step - accuracy: 0.8694 - loss: 0.3191 - val_accuracy: 0.8612 - val_loss: 0.3323\n",
      "Epoch 50/50\n",
      "\u001b[1m200/200\u001b[0m \u001b[32m━━━━━━━━━━━━━━━━━━━━\u001b[0m\u001b[37m\u001b[0m \u001b[1m0s\u001b[0m 2ms/step - accuracy: 0.8684 - loss: 0.3230 - val_accuracy: 0.8625 - val_loss: 0.3316\n"
     ]
    }
   ],
   "source": [
    "history = model.fit(x_train_scaled,y_train,epochs=50,validation_split=0.2)"
   ]
  },
  {
   "cell_type": "code",
   "execution_count": 24,
   "id": "ecb4c7ba",
   "metadata": {
    "execution": {
     "iopub.execute_input": "2024-08-19T05:32:12.429955Z",
     "iopub.status.busy": "2024-08-19T05:32:12.429033Z",
     "iopub.status.idle": "2024-08-19T05:32:12.691405Z",
     "shell.execute_reply": "2024-08-19T05:32:12.690171Z"
    },
    "papermill": {
     "duration": 0.300985,
     "end_time": "2024-08-19T05:32:12.694013",
     "exception": false,
     "start_time": "2024-08-19T05:32:12.393028",
     "status": "completed"
    },
    "tags": []
   },
   "outputs": [
    {
     "name": "stdout",
     "output_type": "stream",
     "text": [
      "\u001b[1m63/63\u001b[0m \u001b[32m━━━━━━━━━━━━━━━━━━━━\u001b[0m\u001b[37m\u001b[0m \u001b[1m0s\u001b[0m 2ms/step\n"
     ]
    }
   ],
   "source": [
    "y_log = model.predict(x_test_scaled)"
   ]
  },
  {
   "cell_type": "code",
   "execution_count": 25,
   "id": "146c9a03",
   "metadata": {
    "execution": {
     "iopub.execute_input": "2024-08-19T05:32:12.765778Z",
     "iopub.status.busy": "2024-08-19T05:32:12.765332Z",
     "iopub.status.idle": "2024-08-19T05:32:12.770847Z",
     "shell.execute_reply": "2024-08-19T05:32:12.769635Z"
    },
    "papermill": {
     "duration": 0.043908,
     "end_time": "2024-08-19T05:32:12.773176",
     "exception": false,
     "start_time": "2024-08-19T05:32:12.729268",
     "status": "completed"
    },
    "tags": []
   },
   "outputs": [],
   "source": [
    "y_pred = np.where(y_log>0.5,1,0)"
   ]
  },
  {
   "cell_type": "code",
   "execution_count": 26,
   "id": "0428bfd7",
   "metadata": {
    "execution": {
     "iopub.execute_input": "2024-08-19T05:32:12.851136Z",
     "iopub.status.busy": "2024-08-19T05:32:12.850229Z",
     "iopub.status.idle": "2024-08-19T05:32:12.859195Z",
     "shell.execute_reply": "2024-08-19T05:32:12.858111Z"
    },
    "papermill": {
     "duration": 0.048356,
     "end_time": "2024-08-19T05:32:12.861458",
     "exception": false,
     "start_time": "2024-08-19T05:32:12.813102",
     "status": "completed"
    },
    "tags": []
   },
   "outputs": [
    {
     "data": {
      "text/plain": [
       "0.858"
      ]
     },
     "execution_count": 26,
     "metadata": {},
     "output_type": "execute_result"
    }
   ],
   "source": [
    "from sklearn.metrics import accuracy_score\n",
    "accuracy_score(y_test,y_pred)"
   ]
  },
  {
   "cell_type": "code",
   "execution_count": 27,
   "id": "2ab0442c",
   "metadata": {
    "execution": {
     "iopub.execute_input": "2024-08-19T05:32:12.933035Z",
     "iopub.status.busy": "2024-08-19T05:32:12.932615Z",
     "iopub.status.idle": "2024-08-19T05:32:12.937305Z",
     "shell.execute_reply": "2024-08-19T05:32:12.936167Z"
    },
    "papermill": {
     "duration": 0.043068,
     "end_time": "2024-08-19T05:32:12.939393",
     "exception": false,
     "start_time": "2024-08-19T05:32:12.896325",
     "status": "completed"
    },
    "tags": []
   },
   "outputs": [],
   "source": [
    "import matplotlib.pyplot as plt"
   ]
  },
  {
   "cell_type": "code",
   "execution_count": 28,
   "id": "b0106bae",
   "metadata": {
    "execution": {
     "iopub.execute_input": "2024-08-19T05:32:13.010584Z",
     "iopub.status.busy": "2024-08-19T05:32:13.010203Z",
     "iopub.status.idle": "2024-08-19T05:32:13.019020Z",
     "shell.execute_reply": "2024-08-19T05:32:13.017959Z"
    },
    "papermill": {
     "duration": 0.047252,
     "end_time": "2024-08-19T05:32:13.021120",
     "exception": false,
     "start_time": "2024-08-19T05:32:12.973868",
     "status": "completed"
    },
    "tags": []
   },
   "outputs": [
    {
     "data": {
      "text/plain": [
       "{'accuracy': [0.7448437213897705,\n",
       "  0.7904687523841858,\n",
       "  0.793749988079071,\n",
       "  0.7982812523841858,\n",
       "  0.8181250095367432,\n",
       "  0.8359375,\n",
       "  0.84375,\n",
       "  0.8492187261581421,\n",
       "  0.8518750071525574,\n",
       "  0.8559374809265137,\n",
       "  0.8570312261581421,\n",
       "  0.8584374785423279,\n",
       "  0.8578125238418579,\n",
       "  0.8590624928474426,\n",
       "  0.8589062690734863,\n",
       "  0.8578125238418579,\n",
       "  0.8590624928474426,\n",
       "  0.8582812547683716,\n",
       "  0.8589062690734863,\n",
       "  0.859375,\n",
       "  0.8604687452316284,\n",
       "  0.8607812523841858,\n",
       "  0.8610937595367432,\n",
       "  0.8612499833106995,\n",
       "  0.8621875047683716,\n",
       "  0.8634374737739563,\n",
       "  0.8631250262260437,\n",
       "  0.8626562356948853,\n",
       "  0.8635937571525574,\n",
       "  0.8642187714576721,\n",
       "  0.8635937571525574,\n",
       "  0.8651562333106995,\n",
       "  0.8650000095367432,\n",
       "  0.8639062643051147,\n",
       "  0.8631250262260437,\n",
       "  0.8648437261581421,\n",
       "  0.8631250262260437,\n",
       "  0.8642187714576721,\n",
       "  0.8657812476158142,\n",
       "  0.8648437261581421,\n",
       "  0.8623437285423279,\n",
       "  0.8642187714576721,\n",
       "  0.8654687404632568,\n",
       "  0.8646875023841858,\n",
       "  0.8646875023841858,\n",
       "  0.8659374713897705,\n",
       "  0.8656250238418579,\n",
       "  0.8653125166893005,\n",
       "  0.8642187714576721,\n",
       "  0.8643749952316284],\n",
       " 'loss': [0.5710532069206238,\n",
       "  0.4638999104499817,\n",
       "  0.4374592900276184,\n",
       "  0.41848886013031006,\n",
       "  0.4007813334465027,\n",
       "  0.38473397493362427,\n",
       "  0.3718715310096741,\n",
       "  0.36364036798477173,\n",
       "  0.35863178968429565,\n",
       "  0.35441020131111145,\n",
       "  0.3519752025604248,\n",
       "  0.3491831123828888,\n",
       "  0.3475687801837921,\n",
       "  0.3456882834434509,\n",
       "  0.3444039821624756,\n",
       "  0.34347954392433167,\n",
       "  0.3419535756111145,\n",
       "  0.34139928221702576,\n",
       "  0.3405705392360687,\n",
       "  0.3398630619049072,\n",
       "  0.3389797508716583,\n",
       "  0.3379972577095032,\n",
       "  0.3377031683921814,\n",
       "  0.3371015787124634,\n",
       "  0.3361435830593109,\n",
       "  0.3357033133506775,\n",
       "  0.3353387117385864,\n",
       "  0.3348345458507538,\n",
       "  0.3352688252925873,\n",
       "  0.3333723843097687,\n",
       "  0.33326733112335205,\n",
       "  0.3333757519721985,\n",
       "  0.33265116810798645,\n",
       "  0.3323209881782532,\n",
       "  0.3323838412761688,\n",
       "  0.3316305875778198,\n",
       "  0.3312492370605469,\n",
       "  0.3310515880584717,\n",
       "  0.33077549934387207,\n",
       "  0.3302854597568512,\n",
       "  0.329812228679657,\n",
       "  0.3301857113838196,\n",
       "  0.3298279047012329,\n",
       "  0.32951676845550537,\n",
       "  0.3286670744419098,\n",
       "  0.32872578501701355,\n",
       "  0.32879361510276794,\n",
       "  0.3282238841056824,\n",
       "  0.3284561038017273,\n",
       "  0.3281152844429016],\n",
       " 'val_accuracy': [0.8062499761581421,\n",
       "  0.8062499761581421,\n",
       "  0.809374988079071,\n",
       "  0.8199999928474426,\n",
       "  0.8362500071525574,\n",
       "  0.8487499952316284,\n",
       "  0.8518750071525574,\n",
       "  0.8543750047683716,\n",
       "  0.8525000214576721,\n",
       "  0.8537499904632568,\n",
       "  0.8525000214576721,\n",
       "  0.8556249737739563,\n",
       "  0.856249988079071,\n",
       "  0.8612499833106995,\n",
       "  0.8587499856948853,\n",
       "  0.8631250262260437,\n",
       "  0.8606250286102295,\n",
       "  0.8631250262260437,\n",
       "  0.8612499833106995,\n",
       "  0.8606250286102295,\n",
       "  0.8618749976158142,\n",
       "  0.8600000143051147,\n",
       "  0.8631250262260437,\n",
       "  0.8618749976158142,\n",
       "  0.862500011920929,\n",
       "  0.8600000143051147,\n",
       "  0.8618749976158142,\n",
       "  0.862500011920929,\n",
       "  0.8637499809265137,\n",
       "  0.8612499833106995,\n",
       "  0.8631250262260437,\n",
       "  0.8631250262260437,\n",
       "  0.862500011920929,\n",
       "  0.8643749952316284,\n",
       "  0.8618749976158142,\n",
       "  0.8650000095367432,\n",
       "  0.8662499785423279,\n",
       "  0.8631250262260437,\n",
       "  0.8631250262260437,\n",
       "  0.8637499809265137,\n",
       "  0.8662499785423279,\n",
       "  0.8643749952316284,\n",
       "  0.8612499833106995,\n",
       "  0.8631250262260437,\n",
       "  0.8581249713897705,\n",
       "  0.8643749952316284,\n",
       "  0.8662499785423279,\n",
       "  0.8618749976158142,\n",
       "  0.8612499833106995,\n",
       "  0.862500011920929],\n",
       " 'val_loss': [0.4564419984817505,\n",
       "  0.42440739274024963,\n",
       "  0.4064665138721466,\n",
       "  0.389750599861145,\n",
       "  0.3725408911705017,\n",
       "  0.3587228059768677,\n",
       "  0.35132503509521484,\n",
       "  0.34339699149131775,\n",
       "  0.3432784974575043,\n",
       "  0.33941414952278137,\n",
       "  0.3392767012119293,\n",
       "  0.33691418170928955,\n",
       "  0.3361530303955078,\n",
       "  0.33657753467559814,\n",
       "  0.335734099149704,\n",
       "  0.33560675382614136,\n",
       "  0.3358166813850403,\n",
       "  0.3358757495880127,\n",
       "  0.3349214494228363,\n",
       "  0.3348878026008606,\n",
       "  0.33527418971061707,\n",
       "  0.33469659090042114,\n",
       "  0.33396080136299133,\n",
       "  0.3339223861694336,\n",
       "  0.3341624438762665,\n",
       "  0.3344923257827759,\n",
       "  0.33489811420440674,\n",
       "  0.33218228816986084,\n",
       "  0.33251217007637024,\n",
       "  0.33371394872665405,\n",
       "  0.331866979598999,\n",
       "  0.332642525434494,\n",
       "  0.33203810453414917,\n",
       "  0.3323402404785156,\n",
       "  0.33242571353912354,\n",
       "  0.3333057165145874,\n",
       "  0.3312362730503082,\n",
       "  0.3326561748981476,\n",
       "  0.33177676796913147,\n",
       "  0.33141839504241943,\n",
       "  0.33196815848350525,\n",
       "  0.33116304874420166,\n",
       "  0.3324354588985443,\n",
       "  0.332663893699646,\n",
       "  0.3345966339111328,\n",
       "  0.3318851590156555,\n",
       "  0.3316871225833893,\n",
       "  0.33118218183517456,\n",
       "  0.33229008316993713,\n",
       "  0.3316361904144287]}"
      ]
     },
     "execution_count": 28,
     "metadata": {},
     "output_type": "execute_result"
    }
   ],
   "source": [
    "history.history"
   ]
  },
  {
   "cell_type": "code",
   "execution_count": 29,
   "id": "3f844061",
   "metadata": {
    "execution": {
     "iopub.execute_input": "2024-08-19T05:32:13.093982Z",
     "iopub.status.busy": "2024-08-19T05:32:13.092981Z",
     "iopub.status.idle": "2024-08-19T05:32:13.353934Z",
     "shell.execute_reply": "2024-08-19T05:32:13.352790Z"
    },
    "papermill": {
     "duration": 0.300254,
     "end_time": "2024-08-19T05:32:13.356436",
     "exception": false,
     "start_time": "2024-08-19T05:32:13.056182",
     "status": "completed"
    },
    "tags": []
   },
   "outputs": [
    {
     "data": {
      "text/plain": [
       "[<matplotlib.lines.Line2D at 0x7f9fa77c0190>]"
      ]
     },
     "execution_count": 29,
     "metadata": {},
     "output_type": "execute_result"
    },
    {
     "data": {
      "image/png": "[encoded data removed]",
      "text/plain": [
       "<Figure size 640x480 with 1 Axes>"
      ]
     },
     "metadata": {},
     "output_type": "display_data"
    }
   ],
   "source": [
    "plt.plot(history.history['loss'])\n",
    "plt.plot(history.history['val_loss'])"
   ]
  },
  {
   "cell_type": "code",
   "execution_count": 30,
   "id": "c8205004",
   "metadata": {
    "execution": {
     "iopub.execute_input": "2024-08-19T05:32:13.490829Z",
     "iopub.status.busy": "2024-08-19T05:32:13.490344Z",
     "iopub.status.idle": "2024-08-19T05:32:13.743653Z",
     "shell.execute_reply": "2024-08-19T05:32:13.742500Z"
    },
    "papermill": {
     "duration": 0.293158,
     "end_time": "2024-08-19T05:32:13.746183",
     "exception": false,
     "start_time": "2024-08-19T05:32:13.453025",
     "status": "completed"
    },
    "tags": []
   },
   "outputs": [
    {
     "data": {
      "text/plain": [
       "[<matplotlib.lines.Line2D at 0x7f9fa5e5e650>]"
      ]
     },
     "execution_count": 30,
     "metadata": {},
     "output_type": "execute_result"
    },
    {
     "data": {
      "image/png": "[encoded data removed]",
      "text/plain": [
       "<Figure size 640x480 with 1 Axes>"
      ]
     },
     "metadata": {},
     "output_type": "display_data"
    }
   ],
   "source": [
    "plt.plot(history.history['accuracy'])\n",
    "plt.plot(history.history['val_accuracy'])"
   ]
  },
  {
   "cell_type": "code",
   "execution_count": null,
   "id": "82982d47",
   "metadata": {
    "papermill": {
     "duration": 0.038834,
     "end_time": "2024-08-19T05:32:13.821354",
     "exception": false,
     "start_time": "2024-08-19T05:32:13.782520",
     "status": "completed"
    },
    "tags": []
   },
   "outputs": [],
   "source": []
  }
 ],
 "metadata": {
  "kaggle": {
   "accelerator": "none",
   "dataSources": [
    {
     "datasetId": 869651,
     "sourceId": 1481789,
     "sourceType": "datasetVersion"
    }
   ],
   "dockerImageVersionId": 30746,
   "isGpuEnabled": false,
   "isInternetEnabled": true,
   "language": "python",
   "sourceType": "notebook"
  },
  "kernelspec": {
   "display_name": "Python 3",
   "language": "python",
   "name": "python3"
  },
  "language_info": {
   "codemirror_mode": {
    "name": "ipython",
    "version": 3
   },
   "file_extension": ".py",
   "mimetype": "text/x-python",
   "name": "python",
   "nbconvert_exporter": "python",
   "pygments_lexer": "ipython3",
   "version": "3.10.13"
  },
  "papermill": {
   "default_parameters": {},
   "duration": 43.384915,
   "end_time": "2024-08-19T05:32:16.452838",
   "environment_variables": {},
   "exception": null,
   "input_path": "__notebook__.ipynb",
   "output_path": "__notebook__.ipynb",
   "parameters": {},
   "start_time": "2024-08-19T05:31:33.067923",
   "version": "2.5.0"
  }
 },
 "nbformat": 4,
 "nbformat_minor": 5
}
